{
 "cells": [
  {
   "cell_type": "code",
   "execution_count": 3,
   "id": "94bebf6f",
   "metadata": {
    "cellId": "teji28xy4eg56e0xcs9y1v"
   },
   "outputs": [
    {
     "name": "stdout",
     "output_type": "stream",
     "text": [
      "numpy=1.23.5\n",
      "pandas=1.5.3\n",
      "polars=0.16.16\n"
     ]
    }
   ],
   "source": [
    "import numpy as np\n",
    "import pandas as pd\n",
    "import dask.dataframe as dd\n",
    "import polars as pl\n",
    "import pickle\n",
    "import os\n",
    "from pathlib import Path\n",
    "import logger\n",
    "import time\n",
    "import pyarrow.parquet as pq\n",
    "import scipy\n",
    "import implicit\n",
    "import bisect\n",
    "\n",
    "from catboost import CatBoostClassifier, CatBoostRegressor, Pool\n",
    "from sklearn.model_selection import train_test_split\n",
    "from sklearn.metrics import roc_auc_score, classification_report\n",
    "from sklearn.calibration import calibration_curve, CalibratedClassifierCV\n",
    "from tqdm.notebook import tqdm\n",
    "\n",
    "print(f'numpy={np.__version__}')\n",
    "print(f'pandas={pd.__version__}')\n",
    "print(f'polars={pl.__version__}')"
   ]
  },
  {
   "cell_type": "code",
   "execution_count": 9,
   "id": "00d942cf",
   "metadata": {
    "cellId": "fe2fa9u29ho57aqh2cq2hr"
   },
   "outputs": [],
   "source": [
    "# Расположение папок с исходными данными\n",
    "CONFIG_ORIG_TARGET_PATH = 'data/public_train.pqt'\n",
    "CONFIG_ORIG_SUBMISSION_PATH = 'data/submit_2.pqt'\n",
    "\n",
    "# Расположение рабочих папок\n",
    "CONFIG_DATA_ENCODED_LIGHT_PARQUET_PATH = 'data_encoded_light_parquet'\n",
    "CONFIG_DICT_PATH = 'dicts'\n",
    "CONFIG_EMBEDDINGS_PATH = 'embeddings'"
   ]
  },
  {
   "cell_type": "code",
   "execution_count": 10,
   "id": "2c19a9c2",
   "metadata": {
    "cellId": "dpz1v9xjdbrcsd7cdl8y"
   },
   "outputs": [],
   "source": [
    "from functools import wraps\n",
    "import time\n",
    "\n",
    "def logger(function):\n",
    "    @wraps(function)\n",
    "    def wrapper(*args, **kwargs):\n",
    "        \"\"\"wrapper documentation\"\"\"\n",
    "        start = time.perf_counter()\n",
    "        print(f'{function.__name__}:begin:')        \n",
    "        output = function(*args, **kwargs)\n",
    "        end = time.perf_counter()        \n",
    "        print(f'{function.__name__}:end: took {end - start:.6f} seconds to complete')\n",
    "        return output\n",
    "    return wrapper\n",
    "\n",
    "@logger\n",
    "def add_two_numbers(a, b):\n",
    "    \"\"\"this function adds two numbers\"\"\"\n",
    "    return a + b"
   ]
  },
  {
   "cell_type": "markdown",
   "id": "288f0779",
   "metadata": {
    "cellId": "s65ald32o8odkia31iwq",
    "execution_id": "5f7965e9-6489-4d0e-9cff-8ac68e2ea7d1"
   },
   "source": [
    "# Загрузка target"
   ]
  },
  {
   "cell_type": "code",
   "execution_count": 11,
   "id": "ce40fad7",
   "metadata": {
    "cellId": "527x1owvsm26cfmcnu6hp"
   },
   "outputs": [
    {
     "name": "stdout",
     "output_type": "stream",
     "text": [
      "get_targets:begin:\n",
      "(270000, 3)\n",
      "shape: (5, 3)\n",
      "┌──────┬─────────┬─────────┐\n",
      "│ age  ┆ is_male ┆ user_id │\n",
      "│ ---  ┆ ---     ┆ ---     │\n",
      "│ f64  ┆ str     ┆ i64     │\n",
      "╞══════╪═════════╪═════════╡\n",
      "│ 31.0 ┆ 1       ┆ 350459  │\n",
      "│ 35.0 ┆ 1       ┆ 188276  │\n",
      "│ 41.0 ┆ 0       ┆ 99002   │\n",
      "│ 33.0 ┆ 0       ┆ 155506  │\n",
      "│ 54.0 ┆ 0       ┆ 213873  │\n",
      "└──────┴─────────┴─────────┘\n",
      "(264326, 2)\n",
      "shape: (5, 2)\n",
      "┌─────────┬─────────┐\n",
      "│ user_id ┆ is_male │\n",
      "│ ---     ┆ ---     │\n",
      "│ i32     ┆ bool    │\n",
      "╞═════════╪═════════╡\n",
      "│ 350459  ┆ true    │\n",
      "│ 188276  ┆ true    │\n",
      "│ 99002   ┆ false   │\n",
      "│ 155506  ┆ false   │\n",
      "│ 213873  ┆ false   │\n",
      "└─────────┴─────────┘\n",
      "shape: (2, 2)\n",
      "┌─────────┬────────┐\n",
      "│ is_male ┆ counts │\n",
      "│ ---     ┆ ---    │\n",
      "│ bool    ┆ u32    │\n",
      "╞═════════╪════════╡\n",
      "│ false   ┆ 128994 │\n",
      "│ true    ┆ 135332 │\n",
      "└─────────┴────────┘\n",
      "shape: (6, 5)\n",
      "┌──────────┬───────────────┬─────┬─────┬───────┐\n",
      "│ age_bins ┆ age_bins_pred ┆ min ┆ max ┆ count │\n",
      "│ ---      ┆ ---           ┆ --- ┆ --- ┆ ---   │\n",
      "│ i64      ┆ i64           ┆ i32 ┆ i32 ┆ u32   │\n",
      "╞══════════╪═══════════════╪═════╪═════╪═══════╡\n",
      "│ 0        ┆ 1             ┆ 19  ┆ 25  ┆ 32641 │\n",
      "│ 1        ┆ 2             ┆ 26  ┆ 35  ┆ 87270 │\n",
      "│ 2        ┆ 3             ┆ 36  ┆ 45  ┆ 77486 │\n",
      "│ 3        ┆ 4             ┆ 46  ┆ 55  ┆ 42442 │\n",
      "│ 4        ┆ 5             ┆ 56  ┆ 65  ┆ 23580 │\n",
      "│ 5        ┆ 6             ┆ 66  ┆ 91  ┆ 5503  │\n",
      "└──────────┴───────────────┴─────┴─────┴───────┘\n",
      "(263508, 5)\n",
      "shape: (5, 5)\n",
      "┌─────────┬─────────┬─────┬──────────┬───────────────┐\n",
      "│ user_id ┆ is_male ┆ age ┆ age_bins ┆ age_bins_pred │\n",
      "│ ---     ┆ ---     ┆ --- ┆ ---      ┆ ---           │\n",
      "│ i32     ┆ bool    ┆ i32 ┆ i64      ┆ i64           │\n",
      "╞═════════╪═════════╪═════╪══════════╪═══════════════╡\n",
      "│ 350459  ┆ true    ┆ 31  ┆ 1        ┆ 2             │\n",
      "│ 188276  ┆ true    ┆ 35  ┆ 1        ┆ 2             │\n",
      "│ 99002   ┆ false   ┆ 41  ┆ 2        ┆ 3             │\n",
      "│ 155506  ┆ false   ┆ 33  ┆ 1        ┆ 2             │\n",
      "│ 213873  ┆ false   ┆ 54  ┆ 3        ┆ 4             │\n",
      "└─────────┴─────────┴─────┴──────────┴───────────────┘\n",
      "shape: (2, 2)\n",
      "┌─────────┬────────┐\n",
      "│ is_male ┆ counts │\n",
      "│ ---     ┆ ---    │\n",
      "│ bool    ┆ u32    │\n",
      "╞═════════╪════════╡\n",
      "│ false   ┆ 128616 │\n",
      "│ true    ┆ 134892 │\n",
      "└─────────┴────────┘\n",
      "shape: (6, 5)\n",
      "┌──────────┬───────────────┬─────┬─────┬───────┐\n",
      "│ age_bins ┆ age_bins_pred ┆ min ┆ max ┆ count │\n",
      "│ ---      ┆ ---           ┆ --- ┆ --- ┆ ---   │\n",
      "│ i64      ┆ i64           ┆ i32 ┆ i32 ┆ u32   │\n",
      "╞══════════╪═══════════════╪═════╪═════╪═══════╡\n",
      "│ 0        ┆ 1             ┆ 19  ┆ 25  ┆ 31615 │\n",
      "│ 1        ┆ 2             ┆ 26  ┆ 35  ┆ 85692 │\n",
      "│ 2        ┆ 3             ┆ 36  ┆ 45  ┆ 76294 │\n",
      "│ 3        ┆ 4             ┆ 46  ┆ 55  ┆ 41254 │\n",
      "│ 4        ┆ 5             ┆ 56  ┆ 65  ┆ 23232 │\n",
      "│ 5        ┆ 6             ┆ 66  ┆ 91  ┆ 5421  │\n",
      "└──────────┴───────────────┴─────┴─────┴───────┘\n",
      "get_targets:end: took 0.170272 seconds to complete\n"
     ]
    }
   ],
   "source": [
    "@logger\n",
    "def get_targets():\n",
    "    targets = pl.read_parquet(CONFIG_ORIG_TARGET_PATH, columns=['age', 'is_male', 'user_id'])\n",
    "    print(targets.shape)\n",
    "    print(targets.head())\n",
    "\n",
    "    male_target = targets.filter((pl.col('is_male').is_in(['0', '1']))).select([pl.col('user_id').cast(pl.Int32()), pl.col('is_male')=='1'])\n",
    "    print(male_target.shape)\n",
    "    print(male_target.head())\n",
    "    print(male_target['is_male'].value_counts())\n",
    "\n",
    "    import bisect\n",
    "    age_target = targets.filter(~pl.col('age').is_null()).filter(pl.col('age') >=19).select([pl.col('user_id').cast(pl.Int32()), pl.col('age').cast(pl.Int32())])\n",
    "    age_target = age_target.with_columns(pl.col(\"age\").apply(lambda x: bisect.bisect_left([25,35,45,55,65], x)).alias(\"age_bins\")).with_columns((pl.col('age_bins')+1).alias('age_bins_pred'))\n",
    "    print(age_target.groupby(['age_bins', 'age_bins_pred']).agg([pl.col('age').min().alias('min'), pl.col('age').max().alias('max'), pl.col('age').count().alias('count')]).sort('age_bins'))\n",
    "\n",
    "    targets = male_target.join(age_target, on='user_id', how='inner')\n",
    "    print(targets.shape)\n",
    "    print(targets.head())\n",
    "    print(targets['is_male'].value_counts())\n",
    "    print(targets.groupby(['age_bins', 'age_bins_pred']).agg([pl.col('age').min().alias('min'), pl.col('age').max().alias('max'), pl.col('age').count().alias('count')]).sort('age_bins'))\n",
    "    \n",
    "    return targets\n",
    "\n",
    "targets = get_targets()"
   ]
  },
  {
   "cell_type": "markdown",
   "id": "20d0ca39",
   "metadata": {
    "cellId": "xzi5tkff9z7gf8pw0pbqd7",
    "execution_id": "99ad249b-0fac-4c58-bb6b-b52fc1e00e6e"
   },
   "source": [
    "# Сохранение/загрузка Embeddings"
   ]
  },
  {
   "cell_type": "code",
   "execution_count": 12,
   "id": "f4065272",
   "metadata": {
    "cellId": "719995fwncrhnejwwx9fh"
   },
   "outputs": [
    {
     "name": "stdout",
     "output_type": "stream",
     "text": [
      "save_embedding:begin:\n",
      "save_embedding: (64, 64) name='test' size=64\n",
      "save_embedding: file_path=PosixPath('/home/jupyter/mnt/s3/mtsmlcup/embeddings_final/embedding_test_064.pickle')\n",
      "save_embedding:end: took 0.033478 seconds to complete\n",
      "load_embedding:begin:\n",
      "load_embedding: name='test' size=64\n",
      "load_embedding: file_path=PosixPath('/home/jupyter/mnt/s3/mtsmlcup/embeddings_final/embedding_test_064.pickle')\n",
      "load_embedding: (64, 64)\n",
      "load_embedding:end: took 0.001206 seconds to complete\n"
     ]
    }
   ],
   "source": [
    "@logger\n",
    "def save_embedding(embedding, name, size):\n",
    "    print(f'save_embedding: {embedding.shape} {name=} {size=}')\n",
    "    os.makedirs(CONFIG_EMBEDDINGS_PATH, exist_ok = True)    \n",
    "    file_path = Path(CONFIG_EMBEDDINGS_PATH) / f'embedding_{name}_{size:03n}.pickle'\n",
    "    print(f'save_embedding: {file_path=}')\n",
    "    \n",
    "    with open(file_path, 'wb') as f:\n",
    "        pickle.dump(embedding, f)\n",
    "\n",
    "@logger        \n",
    "def load_embedding(name, size):\n",
    "    print(f'load_embedding: {name=} {size=}')\n",
    "    file_path = Path(CONFIG_EMBEDDINGS_PATH) / f'embedding_{name}_{size:03n}.pickle'\n",
    "    print(f'load_embedding: {file_path=}')\n",
    "    \n",
    "    with open(file_path, 'rb') as f:\n",
    "        embedding = pickle.load(f)\n",
    "        \n",
    "    print(f'load_embedding: {embedding.shape}')\n",
    "    return embedding\n",
    "\n",
    "test_embedding = np.zeros((64,64), dtype=np.float32)\n",
    "save_embedding(test_embedding,'test',64)\n",
    "test_embedding2 = load_embedding('test',64)\n",
    "\n",
    "assert np.sum(test_embedding != test_embedding2) == 0"
   ]
  },
  {
   "cell_type": "markdown",
   "id": "688d7475",
   "metadata": {
    "cellId": "bdzjzz9qddovsyfbyktqi"
   },
   "source": [
    "# Создадим матрицу для ALS"
   ]
  },
  {
   "cell_type": "code",
   "execution_count": 13,
   "id": "561551de",
   "metadata": {
    "cellId": "zhojy72hdxvc38xlv6s3m"
   },
   "outputs": [
    {
     "name": "stdout",
     "output_type": "stream",
     "text": [
      "get_url_host_id_map:begin:\n",
      "(199683, 5)\n",
      "shape: (199683, 6)\n",
      "┌────────────────────┬──────────┬───────────────┬───────────────┬─────────────┬────────────────────┐\n",
      "│ url_host           ┆ count    ┆ user_id_count ┆ file_id_count ┆ url_host_id ┆ url_host_clean     │\n",
      "│ ---                ┆ ---      ┆ ---           ┆ ---           ┆ ---         ┆ ---                │\n",
      "│ str                ┆ u32      ┆ u32           ┆ u32           ┆ i32         ┆ str                │\n",
      "╞════════════════════╪══════════╪═══════════════╪═══════════════╪═════════════╪════════════════════╡\n",
      "│ googleads.g.double ┆ 22013466 ┆ 394562        ┆ 10            ┆ 0           ┆ googleads.g.double │\n",
      "│ click.net          ┆          ┆               ┆               ┆             ┆ click.net          │\n",
      "│ yandex.ru          ┆ 19007657 ┆ 386405        ┆ 10            ┆ 1           ┆ yandex.ru          │\n",
      "│ i.ytimg.com        ┆ 16901446 ┆ 381268        ┆ 10            ┆ 2           ┆ i.ytimg.com        │\n",
      "│ vk.com             ┆ 16695251 ┆ 374098        ┆ 10            ┆ 3           ┆ vk.com             │\n",
      "│ …                  ┆ …        ┆ …             ┆ …             ┆ …           ┆ …                  │\n",
      "│ каскад-цветов.рф   ┆ 1        ┆ 1             ┆ 1             ┆ 199679      ┆ lessthanNusers     │\n",
      "│ eparhia.mk.ua      ┆ 1        ┆ 1             ┆ 1             ┆ 199680      ┆ lessthanNusers     │\n",
      "│ safarilend.ru      ┆ 1        ┆ 1             ┆ 1             ┆ 199681      ┆ lessthanNusers     │\n",
      "│ oniks-zd.ru        ┆ 1        ┆ 1             ┆ 1             ┆ 199682      ┆ lessthanNusers     │\n",
      "└────────────────────┴──────────┴───────────────┴───────────────┴─────────────┴────────────────────┘\n",
      "(129111, 2)\n",
      "url_host_clean_id min=0 min=129110 n_unique=129111\n",
      "(199683, 2)\n",
      "get_url_host_id_map:end: took 1.621876 seconds to complete\n"
     ]
    },
    {
     "data": {
      "text/html": [
       "<div><style>\n",
       ".dataframe > thead > tr > th,\n",
       ".dataframe > tbody > tr > td {\n",
       "  text-align: right;\n",
       "}\n",
       "</style>\n",
       "<small>shape: (199683, 2)</small><table border=\"1\" class=\"dataframe\"><thead><tr><th>url_host_id</th><th>url_host_clean_id</th></tr><tr><td>i32</td><td>i32</td></tr></thead><tbody><tr><td>131412</td><td>0</td></tr><tr><td>17789</td><td>1</td></tr><tr><td>66485</td><td>2</td></tr><tr><td>111951</td><td>3</td></tr><tr><td>133359</td><td>4</td></tr><tr><td>86152</td><td>5</td></tr><tr><td>90821</td><td>6</td></tr><tr><td>24856</td><td>7</td></tr><tr><td>92874</td><td>8</td></tr><tr><td>68394</td><td>9</td></tr><tr><td>26226</td><td>10</td></tr><tr><td>118746</td><td>11</td></tr><tr><td>&hellip;</td><td>&hellip;</td></tr><tr><td>68740</td><td>129099</td></tr><tr><td>47017</td><td>129100</td></tr><tr><td>29909</td><td>129101</td></tr><tr><td>132855</td><td>129102</td></tr><tr><td>25456</td><td>129103</td></tr><tr><td>94743</td><td>129104</td></tr><tr><td>24919</td><td>129105</td></tr><tr><td>86026</td><td>129106</td></tr><tr><td>93096</td><td>129107</td></tr><tr><td>107976</td><td>129108</td></tr><tr><td>44563</td><td>129109</td></tr><tr><td>139098</td><td>129110</td></tr></tbody></table></div>"
      ],
      "text/plain": [
       "shape: (199683, 2)\n",
       "┌─────────────┬───────────────────┐\n",
       "│ url_host_id ┆ url_host_clean_id │\n",
       "│ ---         ┆ ---               │\n",
       "│ i32         ┆ i32               │\n",
       "╞═════════════╪═══════════════════╡\n",
       "│ 131412      ┆ 0                 │\n",
       "│ 17789       ┆ 1                 │\n",
       "│ 66485       ┆ 2                 │\n",
       "│ 111951      ┆ 3                 │\n",
       "│ …           ┆ …                 │\n",
       "│ 93096       ┆ 129107            │\n",
       "│ 107976      ┆ 129108            │\n",
       "│ 44563       ┆ 129109            │\n",
       "│ 139098      ┆ 129110            │\n",
       "└─────────────┴───────────────────┘"
      ]
     },
     "execution_count": 13,
     "metadata": {},
     "output_type": "execute_result"
    }
   ],
   "source": [
    "@logger\n",
    "def get_url_host_id_map():\n",
    "    url_dict = pl.read_parquet(Path(CONFIG_DICT_PATH) / 'category_dict_url_host.parquet')\n",
    "    url_dict = url_dict.with_columns(pl.col('url_host').apply(lambda x: x.encode('idna').decode('idna')).alias('url_host'))\n",
    "    print(url_dict.shape)\n",
    "\n",
    "    # Новая колонка для очищенных URL\n",
    "    url_dict = url_dict.with_columns(pl.col('url_host').alias('url_host_clean'))\n",
    "\n",
    "    # Заменяем цифры на N (только в URL)\n",
    "    url_dict = url_dict.with_columns(pl.when(pl.col('url_host_clean').str.contains(r'^.*\\.[a-z]*$')).then(pl.col('url_host_clean').str.replace_all(r'\\d+', 'N')).otherwise(pl.col('url_host_clean')).alias('url_host_clean'))\n",
    "\n",
    "    # Заменяем URL, который был меньше чем у N пользователей на 'lessthanNusers'\n",
    "    N = 2\n",
    "    url_dict = url_dict.with_columns(pl.when(pl.col('user_id_count') < N).then(pl.lit('lessthanNusers')).otherwise(pl.col('url_host_clean')).alias('url_host_clean'))\n",
    "    print(url_dict)\n",
    "    \n",
    "    url_dict = url_dict.groupby('url_host_clean').agg([pl.col('url_host_id')]).with_columns(pl.arange(low=0, high=pl.count()).cast(pl.Int32()).alias('url_host_clean_id'))\n",
    "    url_dict = url_dict.select(['url_host_id', 'url_host_clean_id'])\n",
    "    print(url_dict.shape)\n",
    "    print(f\"url_host_clean_id min={url_dict['url_host_clean_id'].min()} min={url_dict['url_host_clean_id'].max()} n_unique={url_dict['url_host_clean_id'].n_unique()}\")\n",
    "\n",
    "    url_dict = url_dict.explode('url_host_id')\n",
    "    print(url_dict.shape)\n",
    "    \n",
    "    return url_dict\n",
    "\n",
    "get_url_host_id_map()"
   ]
  },
  {
   "cell_type": "code",
   "execution_count": null,
   "id": "e2b10398",
   "metadata": {
    "cellId": "w28ebt6anhjf1tgd3b2jze"
   },
   "outputs": [],
   "source": [
    "@logger\n",
    "def get_url_stat_by_user(n_files=100):\n",
    "    \"\"\"\n",
    "    История посещения пользователем url. \n",
    "    Количество посещений URL считается суммой за все даты, поделенной на количество дат, за которые у пользователя были посещения\n",
    "    \"\"\"\n",
    "    url_host_id_map = get_url_host_id_map()\n",
    "        \n",
    "    data = []\n",
    "    for i, file_path in enumerate(list(Path(CONFIG_DATA_ENCODED_LIGHT_PARQUET_PATH).glob('*.parquet'))[:n_files]):\n",
    "        print(f'reading {file_path}')\n",
    "        data_item = pl.scan_parquet(file_path)\n",
    "        \n",
    "        # Вычищаем часть URL через url_host_id_map\n",
    "        data_item = data_item.join(url_host_id_map.lazy(), on='url_host_id').select(pl.exclude('url_host_id')).rename({'url_host_clean_id':'url_host_id'})        \n",
    "\n",
    "        data_item = data_item.groupby(['user_id', 'url_host_id']).agg([\n",
    "            pl.col('request_cnt').sum().alias('request_cnt_total')\n",
    "        ])\n",
    "                \n",
    "        data.append(data_item)\n",
    "        del data_item\n",
    "    data = pl.collect_all(data)\n",
    "    data = pl.concat(data)\n",
    "    return data\n",
    "\n",
    "url_stat_by_user = get_url_stat_by_user(n_files=100) \n",
    "print(url_stat_by_user.groupby('user_id').agg([pl.count()]).select([\n",
    "    pl.col('count').min().alias('min'),\n",
    "    pl.col('count').mean().alias('mean'),\n",
    "   pl.col('count').max().alias('max')\n",
    "]))"
   ]
  },
  {
   "cell_type": "code",
   "execution_count": 16,
   "id": "d708434a",
   "metadata": {
    "cellId": "3eupinj42ktdg3wi19lmgg"
   },
   "outputs": [],
   "source": [
    "mat = scipy.sparse.coo_matrix(\n",
    "    (\n",
    "        url_stat_by_user['request_cnt_total'].to_numpy(),\n",
    "        (\n",
    "            url_stat_by_user['user_id'].to_numpy(),\n",
    "            url_stat_by_user['url_host_id'].to_numpy())\n",
    "    ),\n",
    "    shape=(url_stat_by_user['user_id'].n_unique(), url_stat_by_user['url_host_id'].n_unique())\n",
    ")"
   ]
  },
  {
   "cell_type": "code",
   "execution_count": 20,
   "id": "c40b52bf",
   "metadata": {
    "cellId": "rwbgaf4gaqa12be02v6wpsf"
   },
   "outputs": [],
   "source": [
    "mat = mat.tocsr()"
   ]
  },
  {
   "cell_type": "code",
   "execution_count": null,
   "id": "955ef45e",
   "metadata": {
    "cellId": "3vrvpjb2sm7etrsrt2y0i7"
   },
   "outputs": [],
   "source": [
    "embedding_size = 256\n",
    "\n",
    "# Calculate approximate_als\n",
    "import logging\n",
    "import sys\n",
    "\n",
    "handler = logging.StreamHandler(stream=sys.stdout)\n",
    "log_implicit = logging.getLogger(\"implicit\")\n",
    "log_implicit.setLevel(logging.INFO)\n",
    "log_implicit.addHandler(handler)\n",
    "\n",
    "als = implicit.approximate_als.FaissAlternatingLeastSquares(factors = embedding_size, iterations = 60, use_gpu = True, calculate_training_loss = True, regularization = 0.1)\n",
    "als.fit(mat, show_progress=True)\n",
    "\n",
    "print(type(als.model.user_factors))\n",
    "print(type(als.model.user_factors))\n",
    "\n",
    "if (type(als.model.user_factors) == np.ndarray): # non GPU\n",
    "    save_embedding(als.model.user_factors, 'user_id_from_user_id_vs_url_host_id2', embedding_size)\n",
    "    save_embedding(als.model.item_factors, 'url_host_id2_from_user_id_vs_url_host_id2', embedding_size)\n",
    "else: # GPU\n",
    "    save_embedding(als.model.user_factors.to_numpy(), 'user_id_from_user_id_vs_url_host_id2', embedding_size)\n",
    "    save_embedding(als.model.item_factors.to_numpy(), 'url_host_id2_from_user_id_vs_url_host_id2', embedding_size)"
   ]
  },
  {
   "cell_type": "markdown",
   "id": "7fbfcfe8",
   "metadata": {
    "cellId": "z5l217t6smq2s5mujbd3"
   },
   "source": [
    "# Сравним качество ALS embedding с baseline как в примере (CatBoost)\n",
    "\n",
    "Саму модель не сохраняем, т.к. она чуть лучше бейзлайна, но embedding пользователя добавим как один из embedding в финальную модель"
   ]
  },
  {
   "cell_type": "code",
   "execution_count": 28,
   "id": "bac86a58",
   "metadata": {
    "cellId": "nwgrj3pfieptf1borix2b"
   },
   "outputs": [
    {
     "name": "stdout",
     "output_type": "stream",
     "text": [
      "shape: (197631, 5)\n",
      "┌─────────┬─────────┬─────┬──────────┬───────────────┐\n",
      "│ user_id ┆ is_male ┆ age ┆ age_bins ┆ age_bins_pred │\n",
      "│ ---     ┆ ---     ┆ --- ┆ ---      ┆ ---           │\n",
      "│ i32     ┆ bool    ┆ i32 ┆ i64      ┆ i64           │\n",
      "╞═════════╪═════════╪═════╪══════════╪═══════════════╡\n",
      "│ 354920  ┆ true    ┆ 34  ┆ 1        ┆ 2             │\n",
      "│ 259504  ┆ true    ┆ 49  ┆ 3        ┆ 4             │\n",
      "│ 220373  ┆ false   ┆ 29  ┆ 1        ┆ 2             │\n",
      "│ 50011   ┆ true    ┆ 51  ┆ 3        ┆ 4             │\n",
      "│ …       ┆ …       ┆ …   ┆ …        ┆ …             │\n",
      "│ 158168  ┆ true    ┆ 23  ┆ 0        ┆ 1             │\n",
      "│ 188208  ┆ true    ┆ 59  ┆ 4        ┆ 5             │\n",
      "│ 265003  ┆ false   ┆ 38  ┆ 2        ┆ 3             │\n",
      "│ 255601  ┆ false   ┆ 37  ┆ 2        ┆ 3             │\n",
      "└─────────┴─────────┴─────┴──────────┴───────────────┘\n",
      "shape: (65877, 5)\n",
      "┌─────────┬─────────┬─────┬──────────┬───────────────┐\n",
      "│ user_id ┆ is_male ┆ age ┆ age_bins ┆ age_bins_pred │\n",
      "│ ---     ┆ ---     ┆ --- ┆ ---      ┆ ---           │\n",
      "│ i32     ┆ bool    ┆ i32 ┆ i64      ┆ i64           │\n",
      "╞═════════╪═════════╪═════╪══════════╪═══════════════╡\n",
      "│ 157849  ┆ false   ┆ 41  ┆ 2        ┆ 3             │\n",
      "│ 264895  ┆ true    ┆ 37  ┆ 2        ┆ 3             │\n",
      "│ 64148   ┆ true    ┆ 47  ┆ 3        ┆ 4             │\n",
      "│ 364837  ┆ false   ┆ 24  ┆ 0        ┆ 1             │\n",
      "│ …       ┆ …       ┆ …   ┆ …        ┆ …             │\n",
      "│ 230768  ┆ true    ┆ 31  ┆ 1        ┆ 2             │\n",
      "│ 369109  ┆ true    ┆ 35  ┆ 1        ┆ 2             │\n",
      "│ 297221  ┆ false   ┆ 37  ┆ 2        ┆ 3             │\n",
      "│ 1724    ┆ true    ┆ 32  ┆ 1        ┆ 2             │\n",
      "└─────────┴─────────┴─────┴──────────┴───────────────┘\n"
     ]
    }
   ],
   "source": [
    "from sklearn.model_selection import train_test_split\n",
    "targets_train, targets_valid = train_test_split(targets)\n",
    "print(targets_train)\n",
    "print(targets_valid)"
   ]
  },
  {
   "cell_type": "code",
   "execution_count": 23,
   "id": "46c0a971",
   "metadata": {
    "cellId": "zjzyggp296qbulc5trnhdh"
   },
   "outputs": [],
   "source": [
    "def get_male_X_y(data, user_embedding):\n",
    "    data = data.with_columns(pl.col('user_id').apply(lambda x: user_embedding[x].tolist()).alias('user_embedding'))\n",
    "    X = np.vstack(data['user_embedding'].to_numpy())\n",
    "    y = data['is_male'].to_numpy()\n",
    "    return X, y\n",
    "\n",
    "def get_age_X_y(data, user_embedding):\n",
    "    data = data.with_columns(pl.col('user_id').apply(lambda x: user_embedding[x].tolist()).alias('user_embedding'))\n",
    "    X = np.vstack(data['user_embedding'].to_numpy())\n",
    "    y = data['age_bins'].to_numpy()\n",
    "    return X, y"
   ]
  },
  {
   "cell_type": "code",
   "execution_count": 30,
   "id": "5e89d876",
   "metadata": {
    "cellId": "csjowqiynfnb1h5h4g3vzv"
   },
   "outputs": [
    {
     "name": "stdout",
     "output_type": "stream",
     "text": [
      "load_embedding:begin: name='user_id_from_user_id_vs_url_host_id2' size=256\n",
      "load_embedding: file_path=PosixPath('/home/jupyter/mnt/s3/mtsmlcup/embeddings/embedding_user_id_from_user_id_vs_url_host_id2_256.pickle')\n",
      "load_embedding:end: (415317, 256)\n",
      "0:\ttest: 0.2582463\tbest: 0.2582463 (0)\ttotal: 155ms\tremaining: 1h 17m 15s\n",
      "100:\ttest: 0.5717788\tbest: 0.5717788 (100)\ttotal: 13.9s\tremaining: 1h 8m 43s\n",
      "200:\ttest: 0.6127856\tbest: 0.6127856 (200)\ttotal: 27s\tremaining: 1h 6m 49s\n",
      "300:\ttest: 0.6309550\tbest: 0.6309550 (300)\ttotal: 40.3s\tremaining: 1h 6m 19s\n",
      "400:\ttest: 0.6422982\tbest: 0.6422982 (400)\ttotal: 53.3s\tremaining: 1h 5m 32s\n",
      "500:\ttest: 0.6500639\tbest: 0.6500639 (500)\ttotal: 1m 6s\tremaining: 1h 5m 9s\n",
      "600:\ttest: 0.6558995\tbest: 0.6558995 (600)\ttotal: 1m 19s\tremaining: 1h 4m 38s\n",
      "700:\ttest: 0.6609755\tbest: 0.6609755 (700)\ttotal: 1m 32s\tremaining: 1h 4m 21s\n",
      "800:\ttest: 0.6640153\tbest: 0.6640153 (800)\ttotal: 1m 45s\tremaining: 1h 4m 8s\n",
      "900:\ttest: 0.6666174\tbest: 0.6666174 (900)\ttotal: 1m 58s\tremaining: 1h 3m 49s\n",
      "1000:\ttest: 0.6688343\tbest: 0.6688343 (1000)\ttotal: 2m 11s\tremaining: 1h 3m 24s\n",
      "1100:\ttest: 0.6712564\tbest: 0.6712665 (1098)\ttotal: 2m 24s\tremaining: 1h 3m 4s\n",
      "1200:\ttest: 0.6723459\tbest: 0.6723483 (1199)\ttotal: 2m 37s\tremaining: 1h 2m 53s\n",
      "1300:\ttest: 0.6732151\tbest: 0.6732244 (1299)\ttotal: 2m 50s\tremaining: 1h 2m 38s\n",
      "1400:\ttest: 0.6743864\tbest: 0.6744171 (1396)\ttotal: 3m 3s\tremaining: 1h 2m 24s\n",
      "1500:\ttest: 0.6751281\tbest: 0.6751281 (1500)\ttotal: 3m 16s\tremaining: 1h 2m 6s\n",
      "1600:\ttest: 0.6758635\tbest: 0.6758759 (1598)\ttotal: 3m 29s\tremaining: 1h 1m 50s\n",
      "1700:\ttest: 0.6765889\tbest: 0.6765999 (1689)\ttotal: 3m 42s\tremaining: 1h 1m 37s\n",
      "1800:\ttest: 0.6772701\tbest: 0.6772898 (1794)\ttotal: 3m 55s\tremaining: 1h 1m 23s\n",
      "1900:\ttest: 0.6777462\tbest: 0.6777945 (1864)\ttotal: 4m 8s\tremaining: 1h 1m 9s\n",
      "2000:\ttest: 0.6782093\tbest: 0.6782093 (2000)\ttotal: 4m 21s\tremaining: 1h 53s\n",
      "2100:\ttest: 0.6784953\tbest: 0.6785429 (2063)\ttotal: 4m 34s\tremaining: 1h 42s\n",
      "2200:\ttest: 0.6784925\tbest: 0.6785917 (2142)\ttotal: 4m 47s\tremaining: 1h 30s\n",
      "2300:\ttest: 0.6788890\tbest: 0.6789159 (2294)\ttotal: 5m\tremaining: 1h 19s\n",
      "2400:\ttest: 0.6792346\tbest: 0.6792638 (2371)\ttotal: 5m 13s\tremaining: 1h 7s\n",
      "2500:\ttest: 0.6795016\tbest: 0.6795590 (2497)\ttotal: 5m 26s\tremaining: 59m 55s\n",
      "2600:\ttest: 0.6794327\tbest: 0.6795590 (2497)\ttotal: 5m 40s\tremaining: 59m 43s\n",
      "2700:\ttest: 0.6794329\tbest: 0.6795590 (2497)\ttotal: 5m 53s\tremaining: 59m 31s\n",
      "2800:\ttest: 0.6795643\tbest: 0.6796457 (2788)\ttotal: 6m 6s\tremaining: 59m 19s\n",
      "2900:\ttest: 0.6796117\tbest: 0.6796526 (2818)\ttotal: 6m 19s\tremaining: 59m 7s\n",
      "3000:\ttest: 0.6794291\tbest: 0.6798161 (2935)\ttotal: 6m 33s\tremaining: 58m 57s\n",
      "3100:\ttest: 0.6798193\tbest: 0.6798376 (3097)\ttotal: 6m 46s\tremaining: 58m 48s\n",
      "3200:\ttest: 0.6796651\tbest: 0.6798376 (3097)\ttotal: 6m 59s\tremaining: 58m 34s\n",
      "3300:\ttest: 0.6799816\tbest: 0.6800854 (3267)\ttotal: 7m 13s\tremaining: 58m 22s\n",
      "3400:\ttest: 0.6796909\tbest: 0.6800854 (3267)\ttotal: 7m 26s\tremaining: 58m 10s\n",
      "3500:\ttest: 0.6797944\tbest: 0.6800854 (3267)\ttotal: 7m 39s\tremaining: 57m 59s\n",
      "Stopped by overfitting detector  (300 iterations wait)\n",
      "\n",
      "bestTest = 0.6800854436\n",
      "bestIteration = 3267\n",
      "\n",
      "GINI по полу 0.680\n"
     ]
    }
   ],
   "source": [
    "embedding_size = 256\n",
    "user_embedding = load_embedding('user_id_from_user_id_vs_url_host_id2', embedding_size)\n",
    "\n",
    "x_train, y_train = get_male_X_y(targets_train, user_embedding)\n",
    "x_valid, y_valid = get_male_X_y(targets_valid, user_embedding)\n",
    "assert x_train.shape != x_valid.shape\n",
    "\n",
    "params = {\n",
    "    'loss_function': 'CrossEntropy', \n",
    "    'eval_metric': 'NormalizedGini',\n",
    "    'logging_level': 'Verbose', \n",
    "    'use_best_model': False, \n",
    "    'random_seed': 0,\n",
    "    'iterations':30000,\n",
    "    'od_wait':300,\n",
    "    'learning_rate':0.1,\n",
    "    'allow_writing_files':False\n",
    "}\n",
    "cb_model_male = CatBoostClassifier(**params)\n",
    "cb_model_male.fit(Pool(x_train, y_train.astype(int)), eval_set=Pool(x_valid, y_valid.astype(int)), verbose = 100)\n",
    "\n",
    "from sklearn.metrics import roc_auc_score\n",
    "print(f'GINI по полу {2 * roc_auc_score(y_valid, cb_model_male.predict_proba(x_valid)[:,1]) - 1:2.3f}')"
   ]
  }
 ],
 "metadata": {
  "language_info": {
   "codemirror_mode": {
    "name": "ipython",
    "version": 3
   },
   "file_extension": ".py",
   "mimetype": "text/x-python",
   "name": "python",
   "nbconvert_exporter": "python",
   "pygments_lexer": "ipython3",
   "version": "3.7.7"
  },
  "notebookId": "dfb49544-c5a5-4720-8fc3-73990bb96b10",
  "notebookPath": "2_als_embedding.ipynb"
 },
 "nbformat": 4,
 "nbformat_minor": 5
}
